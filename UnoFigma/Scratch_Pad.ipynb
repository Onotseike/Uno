{
 "cells": [
  {
   "cell_type": "code",
   "execution_count": null,
   "metadata": {
    "dotnet_interactive": {
     "language": "csharp"
    },
    "vscode": {
     "languageId": "dotnet-interactive.csharp"
    }
   },
   "outputs": [],
   "source": [
    "#r \"nuget: Bogus, *\"\n",
    "#r \"nuget: Bogus.Text, *\""
   ]
  },
  {
   "cell_type": "code",
   "execution_count": null,
   "metadata": {
    "dotnet_interactive": {
     "language": "csharp"
    },
    "vscode": {
     "languageId": "dotnet-interactive.csharp"
    }
   },
   "outputs": [],
   "source": [
    "using System;\n",
    "using System.Collections.Generic;\n",
    "using System.Linq;\n",
    "using System.Text;\n",
    "using System.Threading.Tasks;\n",
    "\n",
    "using Bogus;\n",
    "using Bogus.DataSets;\n",
    "using Bogus.Extensions;\n",
    "using Bogus.Text;\n",
    "\n",
    "using Microsoft.AspNetCore.Html;\n"
   ]
  },
  {
   "cell_type": "code",
   "execution_count": null,
   "metadata": {
    "dotnet_interactive": {
     "language": "csharp"
    },
    "vscode": {
     "languageId": "dotnet-interactive.csharp"
    }
   },
   "outputs": [],
   "source": [
    "enum Rating\n",
    "{\n",
    "    One,\n",
    "    Two,\n",
    "    Three,\n",
    "    Four,\n",
    "    Five\n",
    "}"
   ]
  },
  {
   "cell_type": "code",
   "execution_count": null,
   "metadata": {
    "dotnet_interactive": {
     "language": "csharp"
    },
    "vscode": {
     "languageId": "dotnet-interactive.csharp"
    }
   },
   "outputs": [],
   "source": [
    "List<string> Genres = new List<string>()\n",
    "{\n",
    "    \"Action\",\n",
    "    \"Adventure\",\n",
    "    \"Comedy\",\n",
    "    \"Drama\",\n",
    "    \"Horror\",\n",
    "    \"Mystery\",\n",
    "    \"Romance\",\n",
    "    \"Sci-Fi\",\n",
    "    \"Thriller\",\n",
    "    \"Western\",\n",
    "    \"Fiction\",\n",
    "    \"Non-fiction\",\n",
    "    \"Biography\",\n",
    "};"
   ]
  },
  {
   "cell_type": "code",
   "execution_count": null,
   "metadata": {
    "dotnet_interactive": {
     "language": "csharp"
    },
    "vscode": {
     "languageId": "dotnet-interactive.csharp"
    }
   },
   "outputs": [],
   "source": [
    "class Author\n",
    "{\n",
    "    public Guid Id { get; set; }\n",
    "    public string Name { get; set; }\n",
    "    public Rating AverageRatings { get; set; }\n",
    "    public int RatingsCount { get; set; }\n",
    "    public Uri ImageUrl { get; set; }\n",
    "}"
   ]
  },
  {
   "cell_type": "code",
   "execution_count": null,
   "metadata": {
    "dotnet_interactive": {
     "language": "csharp"
    },
    "vscode": {
     "languageId": "dotnet-interactive.csharp"
    }
   },
   "outputs": [],
   "source": [
    "class Book\n",
    "{\n",
    "    public Guid Id { get; set; }\n",
    "    public string ISBN { get; set; }\n",
    "    public Uri Url { get; set; }\n",
    "    public int Pages { get; set; }\n",
    "    public string Publisher { get; set; }\n",
    "    public DateTime Published { get; set; }\n",
    "    public string Title { get; set; }\n",
    "    public Author Author { get; set; }\n",
    "    public string Description { get; set; }\n",
    "    public string Genre { get; set; }\n",
    "    public decimal Price { get; set; }\n",
    "    public Rating AverageRating { get; set; }\n",
    "    public int RatingsCount { get; set; }\n",
    "}"
   ]
  },
  {
   "cell_type": "code",
   "execution_count": null,
   "metadata": {
    "dotnet_interactive": {
     "language": "csharp"
    },
    "vscode": {
     "languageId": "dotnet-interactive.csharp"
    }
   },
   "outputs": [],
   "source": [
    "Faker<Author> authorFaker = new Faker<Author>()\n",
    "    .RuleFor(a => a.Id, f => Guid.NewGuid())\n",
    "    .RuleFor(a => a.Name, f => f.Name.FullName())\n",
    "    .RuleFor(a => a.AverageRatings, f => f.PickRandom<Rating>())\n",
    "    .RuleFor(a => a.RatingsCount, f => f.Random.Number(1, 1000))\n",
    "    .RuleFor(a => a.ImageUrl, f => new Uri(f.Image.PlaceImgUrl(width: 200, height: 300, category: \"people\")));"
   ]
  },
  {
   "cell_type": "code",
   "execution_count": null,
   "metadata": {
    "dotnet_interactive": {
     "language": "csharp"
    },
    "vscode": {
     "languageId": "dotnet-interactive.csharp"
    }
   },
   "outputs": [],
   "source": [
    "Faker<Book> bookFaker = new Faker<Book>()\n",
    "    .RuleFor(b => b.Id, f => Guid.NewGuid())\n",
    "    .RuleFor(b => b.ISBN, f => f.Commerce.Ean13())\n",
    "    .RuleFor(b => b.Url, f => new Uri(f.Image.PicsumUrl(width: 200, height: 300)))\n",
    "    .RuleFor(b => b.Pages, f => f.Random.Number(1, 1000))\n",
    "    .RuleFor(b => b.Publisher, f => f.Company.CompanyName())\n",
    "    .RuleFor(b => b.Published, f => f.Date.Past())\n",
    "    .RuleFor(b => b.Title, f => f.Lorem.Sentence())\n",
    "    .RuleFor(b => b.Author, f => authorFaker.Generate())\n",
    "    .RuleFor(b => b.Description, f => f.Lorem.Paragraph())\n",
    "    .RuleFor(b => b.Genre, f => f.PickRandom(Genres))\n",
    "    .RuleFor(b => b.Price, f => f.Random.Number(1, 100))\n",
    "    .RuleFor(b => b.AverageRating, f => f.PickRandom<Rating>())\n",
    "    .RuleFor(b => b.RatingsCount, f => f.Random.Number(1, 1000));\n"
   ]
  },
  {
   "cell_type": "code",
   "execution_count": null,
   "metadata": {
    "dotnet_interactive": {
     "language": "csharp"
    },
    "vscode": {
     "languageId": "dotnet-interactive.csharp"
    }
   },
   "outputs": [],
   "source": [
    "var authors = authorFaker.Generate(10);\n",
    "var books = bookFaker.Generate(10);"
   ]
  },
  {
   "cell_type": "code",
   "execution_count": null,
   "metadata": {
    "dotnet_interactive": {
     "language": "csharp"
    },
    "vscode": {
     "languageId": "dotnet-interactive.csharp"
    }
   },
   "outputs": [],
   "source": [
    "books[0]"
   ]
  },
  {
   "cell_type": "code",
   "execution_count": null,
   "metadata": {
    "dotnet_interactive": {
     "language": "csharp"
    },
    "vscode": {
     "languageId": "dotnet-interactive.csharp"
    }
   },
   "outputs": [],
   "source": [
    "foreach( var book in books)\n",
    "{\n",
    "    var bookImg = book.Url.AbsoluteUri;\n",
    "    display(HTML($\"<img src='{bookImg}' />\"));\n",
    "}"
   ]
  },
  {
   "cell_type": "code",
   "execution_count": null,
   "metadata": {
    "dotnet_interactive": {
     "language": "csharp"
    },
    "vscode": {
     "languageId": "dotnet-interactive.csharp"
    }
   },
   "outputs": [],
   "source": [
    "foreach (var author in authors)\n",
    "{\n",
    "    var imgUrl = author.ImageUrl.AbsoluteUri;\n",
    "    display(HTML($\"<img src='{imgUrl}'/>\"));\n",
    "}"
   ]
  }
 ],
 "metadata": {
  "kernelspec": {
   "display_name": ".NET (C#)",
   "language": "C#",
   "name": ".net-csharp"
  },
  "language_info": {
   "file_extension": ".cs",
   "mimetype": "text/x-csharp",
   "name": "C#",
   "pygments_lexer": "csharp",
   "version": "9.0"
  },
  "orig_nbformat": 4
 },
 "nbformat": 4,
 "nbformat_minor": 2
}
